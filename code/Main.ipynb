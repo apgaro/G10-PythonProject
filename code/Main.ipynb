{
 "cells": [
  {
   "cell_type": "markdown",
   "metadata": {},
   "source": [
    "# Phase1\n",
    "\n",
    "Authors:\n",
    "@Priyank Raj Sharma\n",
    "@Rhonda Kay Fischer\n",
    "@Adam Paul Garofalo\n",
    "\n",
    "All three of us have worked over the screen share to complete the full assignment. In each module we were equally involved.\n"
   ]
  },
  {
   "cell_type": "code",
   "execution_count": 146,
   "metadata": {
    "collapsed": true
   },
   "outputs": [],
   "source": [
    "import pandas as pd\n",
    "import numpy as np\n",
    "import matplotlib.pyplot as plt\n",
    "%matplotlib inline"
   ]
  },
  {
   "cell_type": "markdown",
   "metadata": {},
   "source": [
    "Read data from a csv file"
   ]
  },
  {
   "cell_type": "code",
   "execution_count": 147,
   "metadata": {},
   "outputs": [
    {
     "data": {
      "text/html": [
       "<div>\n",
       "<style>\n",
       "    .dataframe thead tr:only-child th {\n",
       "        text-align: right;\n",
       "    }\n",
       "\n",
       "    .dataframe thead th {\n",
       "        text-align: left;\n",
       "    }\n",
       "\n",
       "    .dataframe tbody tr th {\n",
       "        vertical-align: top;\n",
       "    }\n",
       "</style>\n",
       "<table border=\"1\" class=\"dataframe\">\n",
       "  <thead>\n",
       "    <tr style=\"text-align: right;\">\n",
       "      <th></th>\n",
       "      <th>Scn</th>\n",
       "      <th>A2</th>\n",
       "      <th>A3</th>\n",
       "      <th>A4</th>\n",
       "      <th>A5</th>\n",
       "      <th>A6</th>\n",
       "      <th>A7</th>\n",
       "      <th>A8</th>\n",
       "      <th>A9</th>\n",
       "      <th>A10</th>\n",
       "      <th>CLASS</th>\n",
       "    </tr>\n",
       "  </thead>\n",
       "  <tbody>\n",
       "    <tr>\n",
       "      <th>0</th>\n",
       "      <td>1000025</td>\n",
       "      <td>5</td>\n",
       "      <td>1</td>\n",
       "      <td>1</td>\n",
       "      <td>1</td>\n",
       "      <td>2</td>\n",
       "      <td>1</td>\n",
       "      <td>3</td>\n",
       "      <td>1</td>\n",
       "      <td>1</td>\n",
       "      <td>2</td>\n",
       "    </tr>\n",
       "    <tr>\n",
       "      <th>1</th>\n",
       "      <td>1002945</td>\n",
       "      <td>5</td>\n",
       "      <td>4</td>\n",
       "      <td>4</td>\n",
       "      <td>5</td>\n",
       "      <td>7</td>\n",
       "      <td>10</td>\n",
       "      <td>3</td>\n",
       "      <td>2</td>\n",
       "      <td>1</td>\n",
       "      <td>2</td>\n",
       "    </tr>\n",
       "    <tr>\n",
       "      <th>2</th>\n",
       "      <td>1015425</td>\n",
       "      <td>3</td>\n",
       "      <td>1</td>\n",
       "      <td>1</td>\n",
       "      <td>1</td>\n",
       "      <td>2</td>\n",
       "      <td>2</td>\n",
       "      <td>3</td>\n",
       "      <td>1</td>\n",
       "      <td>1</td>\n",
       "      <td>2</td>\n",
       "    </tr>\n",
       "    <tr>\n",
       "      <th>3</th>\n",
       "      <td>1016277</td>\n",
       "      <td>6</td>\n",
       "      <td>8</td>\n",
       "      <td>8</td>\n",
       "      <td>1</td>\n",
       "      <td>3</td>\n",
       "      <td>4</td>\n",
       "      <td>3</td>\n",
       "      <td>7</td>\n",
       "      <td>1</td>\n",
       "      <td>2</td>\n",
       "    </tr>\n",
       "    <tr>\n",
       "      <th>4</th>\n",
       "      <td>1017023</td>\n",
       "      <td>4</td>\n",
       "      <td>1</td>\n",
       "      <td>1</td>\n",
       "      <td>3</td>\n",
       "      <td>2</td>\n",
       "      <td>1</td>\n",
       "      <td>3</td>\n",
       "      <td>1</td>\n",
       "      <td>1</td>\n",
       "      <td>2</td>\n",
       "    </tr>\n",
       "  </tbody>\n",
       "</table>\n",
       "</div>"
      ],
      "text/plain": [
       "       Scn  A2  A3  A4  A5  A6  A7  A8  A9  A10  CLASS\n",
       "0  1000025   5   1   1   1   2   1   3   1    1      2\n",
       "1  1002945   5   4   4   5   7  10   3   2    1      2\n",
       "2  1015425   3   1   1   1   2   2   3   1    1      2\n",
       "3  1016277   6   8   8   1   3   4   3   7    1      2\n",
       "4  1017023   4   1   1   3   2   1   3   1    1      2"
      ]
     },
     "execution_count": 147,
     "metadata": {},
     "output_type": "execute_result"
    }
   ],
   "source": [
    "data = pd.read_csv(\"../data/Breast-Cancer-Wisconsin.csv\")\n",
    "\n",
    "data.head()"
   ]
  },
  {
   "cell_type": "code",
   "execution_count": 148,
   "metadata": {},
   "outputs": [],
   "source": [
    "# replace ? with nan and conver A7 column to numeric\n",
    "data = data.replace(\"?\",np.nan)\n",
    "data[\"A7\"] = pd.to_numeric(data[\"A7\"])"
   ]
  },
  {
   "cell_type": "code",
   "execution_count": 149,
   "metadata": {},
   "outputs": [
    {
     "name": "stdout",
     "output_type": "stream",
     "text": [
      "A7 null values:  16\n"
     ]
    }
   ],
   "source": [
    "# print null value for each column. A7 has 16 null value\n",
    "print(\"A7 null values: \",data[\"A7\"].isnull().sum())"
   ]
  },
  {
   "cell_type": "code",
   "execution_count": 150,
   "metadata": {},
   "outputs": [
    {
     "name": "stdout",
     "output_type": "stream",
     "text": [
      "A7 null values:  0\n"
     ]
    }
   ],
   "source": [
    "# Replace NaN values with the mean of column A7\n",
    "data = data.fillna(data.mean())\n",
    "data=data.astype(\"int64\")\n",
    "print(\"A7 null values: \",data[\"A7\"].isnull().sum())"
   ]
  },
  {
   "cell_type": "code",
   "execution_count": 151,
   "metadata": {},
   "outputs": [
    {
     "name": "stdout",
     "output_type": "stream",
     "text": [
      "                Scn          A2          A3          A4          A5  \\\n",
      "count  6.990000e+02  699.000000  699.000000  699.000000  699.000000   \n",
      "mean   1.071704e+06    4.417740    3.134478    3.207439    2.806867   \n",
      "std    6.170957e+05    2.815741    3.051459    2.971913    2.855379   \n",
      "min    6.163400e+04    1.000000    1.000000    1.000000    1.000000   \n",
      "25%    8.706885e+05    2.000000    1.000000    1.000000    1.000000   \n",
      "50%    1.171710e+06    4.000000    1.000000    1.000000    1.000000   \n",
      "75%    1.238298e+06    6.000000    5.000000    5.000000    4.000000   \n",
      "max    1.345435e+07   10.000000   10.000000   10.000000   10.000000   \n",
      "\n",
      "               A6          A7          A8          A9         A10       CLASS  \n",
      "count  699.000000  699.000000  699.000000  699.000000  699.000000  699.000000  \n",
      "mean     3.216023    3.532189    3.437768    2.866953    1.589413    2.689557  \n",
      "std      2.214300    3.602774    2.438364    3.053634    1.715078    0.951273  \n",
      "min      1.000000    1.000000    1.000000    1.000000    1.000000    2.000000  \n",
      "25%      2.000000    1.000000    2.000000    1.000000    1.000000    2.000000  \n",
      "50%      2.000000    1.000000    3.000000    1.000000    1.000000    2.000000  \n",
      "75%      4.000000    5.000000    5.000000    4.000000    1.000000    4.000000  \n",
      "max     10.000000   10.000000   10.000000   10.000000   10.000000    4.000000  \n"
     ]
    }
   ],
   "source": [
    "# Print Summary statistics\n",
    "print(data.describe())"
   ]
  },
  {
   "cell_type": "code",
   "execution_count": 152,
   "metadata": {},
   "outputs": [
    {
     "name": "stdout",
     "output_type": "stream",
     "text": [
      "Rows : 699, Column: 11\n"
     ]
    }
   ],
   "source": [
    "# Print number of rows and column\n",
    "\n",
    "print(\"Rows : {0}, Column: {1}\".format(data.shape[0],data.shape[1]))"
   ]
  },
  {
   "cell_type": "code",
   "execution_count": 153,
   "metadata": {},
   "outputs": [
    {
     "name": "stdout",
     "output_type": "stream",
     "text": [
      "Scn total unique id:  645\n"
     ]
    }
   ],
   "source": [
    "# Print Unique id values (column Scn)\n",
    "print(\"Scn total unique id: \",len(data[\"Scn\"].unique()))"
   ]
  },
  {
   "cell_type": "code",
   "execution_count": 219,
   "metadata": {},
   "outputs": [
    {
     "data": {
      "text/plain": [
       "<matplotlib.figure.Figure at 0x11223e4a8>"
      ]
     },
     "metadata": {},
     "output_type": "display_data"
    },
    {
     "data": {
      "image/png": "[encoded data removed]",
      "text/plain": [
       "<matplotlib.figure.Figure at 0x111ae5470>"
      ]
     },
     "metadata": {},
     "output_type": "display_data"
    }
   ],
   "source": [
    "# Draw hostogram from A2-A10\n",
    "\n",
    "plt.figure()\n",
    "\n",
    "data.iloc[:,1:-1].plot(kind=\"hist\",grid=True,bins=20)\n",
    "plt.tight_layout(rect=(0, 0, 2.2, 2.2))\n"
   ]
  },
  {
   "cell_type": "code",
   "execution_count": 155,
   "metadata": {},
   "outputs": [
    {
     "name": "stdout",
     "output_type": "stream",
     "text": [
      "CLASS\n",
      "2    458\n",
      "4    241\n",
      "Name: CLASS, dtype: int64\n"
     ]
    }
   ],
   "source": [
    "# Groupby to see counts of benign and malignant\n",
    "\n",
    "print(data.groupby(\"CLASS\")[\"CLASS\"].count())"
   ]
  },
  {
   "cell_type": "code",
   "execution_count": 156,
   "metadata": {},
   "outputs": [
    {
     "data": {
      "image/png": "[encoded data removed]",
      "text/plain": [
       "<matplotlib.figure.Figure at 0x1123b0358>"
      ]
     },
     "metadata": {},
     "output_type": "display_data"
    }
   ],
   "source": [
    "#Draw a bar plot for CLASS \n",
    "pd.value_counts(data[\"CLASS\"]).plot(kind=\"bar\")\n",
    "plt.tight_layout(rect=(0, 0, 1.2, 1.2))"
   ]
  },
  {
   "cell_type": "code",
   "execution_count": 157,
   "metadata": {},
   "outputs": [
    {
     "data": {
      "image/png": "[encoded data removed]",
      "text/plain": [
       "<matplotlib.figure.Figure at 0x11205be80>"
      ]
     },
     "metadata": {},
     "output_type": "display_data"
    }
   ],
   "source": [
    "# Scatter plot between A10 and A6\n",
    "plt.scatter(data[\"A10\"],data[\"A6\"])\n",
    "plt.xlabel(\"A10\")\n",
    "plt.ylabel(\"A6\")\n",
    "plt.title(\"Scatter Plot between A10 and A6\")\n",
    "plt.show()"
   ]
  },
  {
   "cell_type": "code",
   "execution_count": 160,
   "metadata": {},
   "outputs": [
    {
     "data": {
      "text/html": [
       "<div>\n",
       "<style>\n",
       "    .dataframe thead tr:only-child th {\n",
       "        text-align: right;\n",
       "    }\n",
       "\n",
       "    .dataframe thead th {\n",
       "        text-align: left;\n",
       "    }\n",
       "\n",
       "    .dataframe tbody tr th {\n",
       "        vertical-align: top;\n",
       "    }\n",
       "</style>\n",
       "<table border=\"1\" class=\"dataframe\">\n",
       "  <thead>\n",
       "    <tr style=\"text-align: right;\">\n",
       "      <th></th>\n",
       "      <th>Scn</th>\n",
       "      <th>A2</th>\n",
       "      <th>A3</th>\n",
       "      <th>A4</th>\n",
       "      <th>A5</th>\n",
       "      <th>A6</th>\n",
       "      <th>A7</th>\n",
       "      <th>A8</th>\n",
       "      <th>A9</th>\n",
       "      <th>A10</th>\n",
       "      <th>CLASS</th>\n",
       "    </tr>\n",
       "  </thead>\n",
       "  <tbody>\n",
       "    <tr>\n",
       "      <th>Scn</th>\n",
       "      <td>1.000000</td>\n",
       "      <td>-0.055308</td>\n",
       "      <td>-0.041603</td>\n",
       "      <td>-0.041576</td>\n",
       "      <td>-0.064878</td>\n",
       "      <td>-0.045528</td>\n",
       "      <td>-0.097440</td>\n",
       "      <td>-0.060051</td>\n",
       "      <td>-0.052072</td>\n",
       "      <td>-0.034901</td>\n",
       "      <td>-0.080226</td>\n",
       "    </tr>\n",
       "    <tr>\n",
       "      <th>A2</th>\n",
       "      <td>-0.055308</td>\n",
       "      <td>1.000000</td>\n",
       "      <td>0.644913</td>\n",
       "      <td>0.654589</td>\n",
       "      <td>0.486356</td>\n",
       "      <td>0.521816</td>\n",
       "      <td>0.588433</td>\n",
       "      <td>0.558428</td>\n",
       "      <td>0.535835</td>\n",
       "      <td>0.350034</td>\n",
       "      <td>0.716001</td>\n",
       "    </tr>\n",
       "    <tr>\n",
       "      <th>A3</th>\n",
       "      <td>-0.041603</td>\n",
       "      <td>0.644913</td>\n",
       "      <td>1.000000</td>\n",
       "      <td>0.906882</td>\n",
       "      <td>0.705582</td>\n",
       "      <td>0.751799</td>\n",
       "      <td>0.687417</td>\n",
       "      <td>0.755721</td>\n",
       "      <td>0.722865</td>\n",
       "      <td>0.458693</td>\n",
       "      <td>0.817904</td>\n",
       "    </tr>\n",
       "    <tr>\n",
       "      <th>A4</th>\n",
       "      <td>-0.041576</td>\n",
       "      <td>0.654589</td>\n",
       "      <td>0.906882</td>\n",
       "      <td>1.000000</td>\n",
       "      <td>0.683079</td>\n",
       "      <td>0.719668</td>\n",
       "      <td>0.709812</td>\n",
       "      <td>0.735948</td>\n",
       "      <td>0.719446</td>\n",
       "      <td>0.438911</td>\n",
       "      <td>0.818934</td>\n",
       "    </tr>\n",
       "    <tr>\n",
       "      <th>A5</th>\n",
       "      <td>-0.064878</td>\n",
       "      <td>0.486356</td>\n",
       "      <td>0.705582</td>\n",
       "      <td>0.683079</td>\n",
       "      <td>1.000000</td>\n",
       "      <td>0.599599</td>\n",
       "      <td>0.666086</td>\n",
       "      <td>0.666715</td>\n",
       "      <td>0.603352</td>\n",
       "      <td>0.417633</td>\n",
       "      <td>0.696800</td>\n",
       "    </tr>\n",
       "    <tr>\n",
       "      <th>A6</th>\n",
       "      <td>-0.045528</td>\n",
       "      <td>0.521816</td>\n",
       "      <td>0.751799</td>\n",
       "      <td>0.719668</td>\n",
       "      <td>0.599599</td>\n",
       "      <td>1.000000</td>\n",
       "      <td>0.582331</td>\n",
       "      <td>0.616102</td>\n",
       "      <td>0.628881</td>\n",
       "      <td>0.479101</td>\n",
       "      <td>0.682785</td>\n",
       "    </tr>\n",
       "    <tr>\n",
       "      <th>A7</th>\n",
       "      <td>-0.097440</td>\n",
       "      <td>0.588433</td>\n",
       "      <td>0.687417</td>\n",
       "      <td>0.709812</td>\n",
       "      <td>0.666086</td>\n",
       "      <td>0.582331</td>\n",
       "      <td>1.000000</td>\n",
       "      <td>0.676167</td>\n",
       "      <td>0.577347</td>\n",
       "      <td>0.339844</td>\n",
       "      <td>0.817442</td>\n",
       "    </tr>\n",
       "    <tr>\n",
       "      <th>A8</th>\n",
       "      <td>-0.060051</td>\n",
       "      <td>0.558428</td>\n",
       "      <td>0.755721</td>\n",
       "      <td>0.735948</td>\n",
       "      <td>0.666715</td>\n",
       "      <td>0.616102</td>\n",
       "      <td>0.676167</td>\n",
       "      <td>1.000000</td>\n",
       "      <td>0.665878</td>\n",
       "      <td>0.344169</td>\n",
       "      <td>0.756616</td>\n",
       "    </tr>\n",
       "    <tr>\n",
       "      <th>A9</th>\n",
       "      <td>-0.052072</td>\n",
       "      <td>0.535835</td>\n",
       "      <td>0.722865</td>\n",
       "      <td>0.719446</td>\n",
       "      <td>0.603352</td>\n",
       "      <td>0.628881</td>\n",
       "      <td>0.577347</td>\n",
       "      <td>0.665878</td>\n",
       "      <td>1.000000</td>\n",
       "      <td>0.428336</td>\n",
       "      <td>0.712244</td>\n",
       "    </tr>\n",
       "    <tr>\n",
       "      <th>A10</th>\n",
       "      <td>-0.034901</td>\n",
       "      <td>0.350034</td>\n",
       "      <td>0.458693</td>\n",
       "      <td>0.438911</td>\n",
       "      <td>0.417633</td>\n",
       "      <td>0.479101</td>\n",
       "      <td>0.339844</td>\n",
       "      <td>0.344169</td>\n",
       "      <td>0.428336</td>\n",
       "      <td>1.000000</td>\n",
       "      <td>0.423170</td>\n",
       "    </tr>\n",
       "    <tr>\n",
       "      <th>CLASS</th>\n",
       "      <td>-0.080226</td>\n",
       "      <td>0.716001</td>\n",
       "      <td>0.817904</td>\n",
       "      <td>0.818934</td>\n",
       "      <td>0.696800</td>\n",
       "      <td>0.682785</td>\n",
       "      <td>0.817442</td>\n",
       "      <td>0.756616</td>\n",
       "      <td>0.712244</td>\n",
       "      <td>0.423170</td>\n",
       "      <td>1.000000</td>\n",
       "    </tr>\n",
       "  </tbody>\n",
       "</table>\n",
       "</div>"
      ],
      "text/plain": [
       "            Scn        A2        A3        A4        A5        A6        A7  \\\n",
       "Scn    1.000000 -0.055308 -0.041603 -0.041576 -0.064878 -0.045528 -0.097440   \n",
       "A2    -0.055308  1.000000  0.644913  0.654589  0.486356  0.521816  0.588433   \n",
       "A3    -0.041603  0.644913  1.000000  0.906882  0.705582  0.751799  0.687417   \n",
       "A4    -0.041576  0.654589  0.906882  1.000000  0.683079  0.719668  0.709812   \n",
       "A5    -0.064878  0.486356  0.705582  0.683079  1.000000  0.599599  0.666086   \n",
       "A6    -0.045528  0.521816  0.751799  0.719668  0.599599  1.000000  0.582331   \n",
       "A7    -0.097440  0.588433  0.687417  0.709812  0.666086  0.582331  1.000000   \n",
       "A8    -0.060051  0.558428  0.755721  0.735948  0.666715  0.616102  0.676167   \n",
       "A9    -0.052072  0.535835  0.722865  0.719446  0.603352  0.628881  0.577347   \n",
       "A10   -0.034901  0.350034  0.458693  0.438911  0.417633  0.479101  0.339844   \n",
       "CLASS -0.080226  0.716001  0.817904  0.818934  0.696800  0.682785  0.817442   \n",
       "\n",
       "             A8        A9       A10     CLASS  \n",
       "Scn   -0.060051 -0.052072 -0.034901 -0.080226  \n",
       "A2     0.558428  0.535835  0.350034  0.716001  \n",
       "A3     0.755721  0.722865  0.458693  0.817904  \n",
       "A4     0.735948  0.719446  0.438911  0.818934  \n",
       "A5     0.666715  0.603352  0.417633  0.696800  \n",
       "A6     0.616102  0.628881  0.479101  0.682785  \n",
       "A7     0.676167  0.577347  0.339844  0.817442  \n",
       "A8     1.000000  0.665878  0.344169  0.756616  \n",
       "A9     0.665878  1.000000  0.428336  0.712244  \n",
       "A10    0.344169  0.428336  1.000000  0.423170  \n",
       "CLASS  0.756616  0.712244  0.423170  1.000000  "
      ]
     },
     "execution_count": 160,
     "metadata": {},
     "output_type": "execute_result"
    }
   ],
   "source": [
    "# printing corelation matrix to find relationship between each column\n",
    "data.corr()"
   ]
  },
  {
   "cell_type": "markdown",
   "metadata": {},
   "source": [
    "# Summary\n",
    "\n",
    "1. Above bar chart shows, Benign cases are more than malignant\n",
    "2. Corelation Matrix shows. \n",
    "   Scn column has no significance to classify Benign and malignant cases. Scn column can be ignored.\n",
    "   A2 - A10 columns are important to classify Benign and malignant cases."
   ]
  },
  {
   "cell_type": "code",
   "execution_count": null,
   "metadata": {},
   "outputs": [],
   "source": []
  },
  {
   "cell_type": "code",
   "execution_count": 161,
   "metadata": {
    "collapsed": true
   },
   "outputs": [],
   "source": []
  },
  {
   "cell_type": "code",
   "execution_count": 198,
   "metadata": {},
   "outputs": [],
   "source": [
    "\n"
   ]
  },
  {
   "cell_type": "code",
   "execution_count": null,
   "metadata": {},
   "outputs": [],
   "source": []
  },
  {
   "cell_type": "code",
   "execution_count": null,
   "metadata": {},
   "outputs": [],
   "source": []
  },
  {
   "cell_type": "code",
   "execution_count": null,
   "metadata": {},
   "outputs": [],
   "source": [
    "\n"
   ]
  },
  {
   "cell_type": "code",
   "execution_count": null,
   "metadata": {},
   "outputs": [],
   "source": []
  },
  {
   "cell_type": "code",
   "execution_count": null,
   "metadata": {},
   "outputs": [],
   "source": []
  },
  {
   "cell_type": "code",
   "execution_count": null,
   "metadata": {},
   "outputs": [],
   "source": []
  },
  {
   "cell_type": "code",
   "execution_count": null,
   "metadata": {
    "collapsed": true
   },
   "outputs": [],
   "source": []
  },
  {
   "cell_type": "code",
   "execution_count": null,
   "metadata": {},
   "outputs": [],
   "source": []
  },
  {
   "cell_type": "code",
   "execution_count": null,
   "metadata": {
    "collapsed": true
   },
   "outputs": [],
   "source": []
  }
 ],
 "metadata": {
  "kernelspec": {
   "display_name": "Python 3",
   "language": "python",
   "name": "python3"
  },
  "language_info": {
   "codemirror_mode": {
    "name": "ipython",
    "version": 3
   },
   "file_extension": ".py",
   "mimetype": "text/x-python",
   "name": "python",
   "nbconvert_exporter": "python",
   "pygments_lexer": "ipython3",
   "version": "3.6.3"
  },
  "toc": {
   "base_numbering": 1,
   "nav_menu": {},
   "number_sections": true,
   "sideBar": true,
   "skip_h1_title": false,
   "title_cell": "Table of Contents",
   "title_sidebar": "Contents",
   "toc_cell": false,
   "toc_position": {},
   "toc_section_display": true,
   "toc_window_display": false
  },
  "varInspector": {
   "cols": {
    "lenName": 16,
    "lenType": 16,
    "lenVar": 40
   },
   "kernels_config": {
    "python": {
     "delete_cmd_postfix": "",
     "delete_cmd_prefix": "del ",
     "library": "var_list.py",
     "varRefreshCmd": "print(var_dic_list())"
    },
    "r": {
     "delete_cmd_postfix": ") ",
     "delete_cmd_prefix": "rm(",
     "library": "var_list.r",
     "varRefreshCmd": "cat(var_dic_list()) "
    }
   },
   "types_to_exclude": [
    "module",
    "function",
    "builtin_function_or_method",
    "instance",
    "_Feature"
   ],
   "window_display": false
  }
 },
 "nbformat": 4,
 "nbformat_minor": 2
}
